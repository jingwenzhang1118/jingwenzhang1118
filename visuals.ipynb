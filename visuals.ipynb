{
 "cells": [
  {
   "cell_type": "markdown",
   "metadata": {},
   "source": [
    "## CSR performance of US companies 2004 - 2018"
   ]
  },
  {
   "cell_type": "code",
   "execution_count": 1,
   "metadata": {},
   "outputs": [
    {
     "name": "stdout",
     "output_type": "stream",
     "text": [
      "Warning: Cannot change to a different GUI toolkit: notebook. Using widget instead.\n"
     ]
    }
   ],
   "source": [
    "# import libraries\n",
    "import numpy as np\n",
    "import pandas as pd\n",
    "\n",
    "\n",
    "from matplotlib.animation import FuncAnimation\n",
    "from matplotlib.animation import PillowWriter\n",
    "import matplotlib.pyplot as plt\n",
    "import plotly.io as pio\n",
    "from PIL import Image\n",
    "import statsmodels.formula.api as smf\n",
    "from scipy.stats.mstats import winsorize\n",
    "\n",
    "import gc\n",
    "%matplotlib widget\n",
    "%matplotlib notebook\n",
    "pio.templates.default = 'plotly_white'"
   ]
  },
  {
   "cell_type": "code",
   "execution_count": 2,
   "metadata": {},
   "outputs": [
    {
     "name": "stdout",
     "output_type": "stream",
     "text": [
      "(16158, 24)\n"
     ]
    },
    {
     "data": {
      "text/html": [
       "<div>\n",
       "<style scoped>\n",
       "    .dataframe tbody tr th:only-of-type {\n",
       "        vertical-align: middle;\n",
       "    }\n",
       "\n",
       "    .dataframe tbody tr th {\n",
       "        vertical-align: top;\n",
       "    }\n",
       "\n",
       "    .dataframe thead th {\n",
       "        text-align: right;\n",
       "    }\n",
       "</style>\n",
       "<table border=\"1\" class=\"dataframe\">\n",
       "  <thead>\n",
       "    <tr style=\"text-align: right;\">\n",
       "      <th></th>\n",
       "      <th>company</th>\n",
       "      <th>gvkey</th>\n",
       "      <th>year</th>\n",
       "      <th>ticker</th>\n",
       "      <th>sic</th>\n",
       "      <th>log_assets</th>\n",
       "      <th>log_sales</th>\n",
       "      <th>sales_growth</th>\n",
       "      <th>return</th>\n",
       "      <th>roa</th>\n",
       "      <th>...</th>\n",
       "      <th>ceo_female</th>\n",
       "      <th>compensation</th>\n",
       "      <th>log_totcomp</th>\n",
       "      <th>industry</th>\n",
       "      <th>Construction</th>\n",
       "      <th>Manufacturing</th>\n",
       "      <th>Transportation</th>\n",
       "      <th>Wholesale</th>\n",
       "      <th>Retail</th>\n",
       "      <th>Services</th>\n",
       "    </tr>\n",
       "  </thead>\n",
       "  <tbody>\n",
       "    <tr>\n",
       "      <th>0</th>\n",
       "      <td>AAR CORP</td>\n",
       "      <td>1004</td>\n",
       "      <td>2004</td>\n",
       "      <td>AIR</td>\n",
       "      <td>50</td>\n",
       "      <td>6.597459</td>\n",
       "      <td>6.618536</td>\n",
       "      <td>0.147080</td>\n",
       "      <td>0.674322</td>\n",
       "      <td>0.021104</td>\n",
       "      <td>...</td>\n",
       "      <td>0.0</td>\n",
       "      <td>7045.048</td>\n",
       "      <td>8.860222</td>\n",
       "      <td>Wholesale</td>\n",
       "      <td>0</td>\n",
       "      <td>0</td>\n",
       "      <td>0</td>\n",
       "      <td>1</td>\n",
       "      <td>0</td>\n",
       "      <td>0</td>\n",
       "    </tr>\n",
       "    <tr>\n",
       "      <th>1</th>\n",
       "      <td>AAR CORP</td>\n",
       "      <td>1004</td>\n",
       "      <td>2005</td>\n",
       "      <td>AIR</td>\n",
       "      <td>50</td>\n",
       "      <td>6.887368</td>\n",
       "      <td>6.800486</td>\n",
       "      <td>0.199821</td>\n",
       "      <td>0.501247</td>\n",
       "      <td>0.035924</td>\n",
       "      <td>...</td>\n",
       "      <td>0.0</td>\n",
       "      <td>6568.409</td>\n",
       "      <td>8.790179</td>\n",
       "      <td>Wholesale</td>\n",
       "      <td>0</td>\n",
       "      <td>0</td>\n",
       "      <td>0</td>\n",
       "      <td>1</td>\n",
       "      <td>0</td>\n",
       "      <td>0</td>\n",
       "    </tr>\n",
       "    <tr>\n",
       "      <th>2</th>\n",
       "      <td>AAR CORP</td>\n",
       "      <td>1004</td>\n",
       "      <td>2006</td>\n",
       "      <td>AIR</td>\n",
       "      <td>50</td>\n",
       "      <td>6.974135</td>\n",
       "      <td>6.968068</td>\n",
       "      <td>0.182646</td>\n",
       "      <td>0.349668</td>\n",
       "      <td>0.054944</td>\n",
       "      <td>...</td>\n",
       "      <td>0.0</td>\n",
       "      <td>6787.100</td>\n",
       "      <td>8.822926</td>\n",
       "      <td>Wholesale</td>\n",
       "      <td>0</td>\n",
       "      <td>0</td>\n",
       "      <td>0</td>\n",
       "      <td>1</td>\n",
       "      <td>0</td>\n",
       "      <td>0</td>\n",
       "    </tr>\n",
       "  </tbody>\n",
       "</table>\n",
       "<p>3 rows × 24 columns</p>\n",
       "</div>"
      ],
      "text/plain": [
       "    company  gvkey  year ticker  sic  log_assets  log_sales  sales_growth  \\\n",
       "0  AAR CORP   1004  2004    AIR   50    6.597459   6.618536      0.147080   \n",
       "1  AAR CORP   1004  2005    AIR   50    6.887368   6.800486      0.199821   \n",
       "2  AAR CORP   1004  2006    AIR   50    6.974135   6.968068      0.182646   \n",
       "\n",
       "     return       roa  ...  ceo_female  compensation  log_totcomp   industry  \\\n",
       "0  0.674322  0.021104  ...         0.0      7045.048     8.860222  Wholesale   \n",
       "1  0.501247  0.035924  ...         0.0      6568.409     8.790179  Wholesale   \n",
       "2  0.349668  0.054944  ...         0.0      6787.100     8.822926  Wholesale   \n",
       "\n",
       "   Construction  Manufacturing  Transportation Wholesale  Retail  Services  \n",
       "0             0              0               0         1       0         0  \n",
       "1             0              0               0         1       0         0  \n",
       "2             0              0               0         1       0         0  \n",
       "\n",
       "[3 rows x 24 columns]"
      ]
     },
     "execution_count": 2,
     "metadata": {},
     "output_type": "execute_result"
    }
   ],
   "source": [
    "### import the data\n",
    "df = pd.read_csv(\"esg_cleaned.csv\")\n",
    "print(df.shape)\n",
    "df.head(3)"
   ]
  },
  {
   "cell_type": "markdown",
   "metadata": {},
   "source": [
    "### CSR performance by year"
   ]
  },
  {
   "cell_type": "markdown",
   "metadata": {},
   "source": [
    "**Get average performance over years**"
   ]
  },
  {
   "cell_type": "code",
   "execution_count": 3,
   "metadata": {},
   "outputs": [
    {
     "data": {
      "text/plain": [
       "(15, 11)"
      ]
     },
     "execution_count": 3,
     "metadata": {},
     "output_type": "execute_result"
    }
   ],
   "source": [
    "# only select numeric columns to calculate the mean\n",
    "# df.select_dtypes(include=np.number).groupby(['year']).mean()\n",
    "\n",
    "# select certain columns to calculate the mean\n",
    "vars_to_mean = ['log_assets', 'log_sales',\n",
    "       'sales_growth', 'return', 'roa', 'csr_total', 'csr_external',\n",
    "       'csr_internal', 'compensation', 'log_totcomp']\n",
    "\n",
    "df_yr = df.groupby(['year'])[vars_to_mean].mean()\n",
    "df_yr['year'] = df_yr.index\n",
    "df_yr.shape\n"
   ]
  },
  {
   "cell_type": "markdown",
   "metadata": {},
   "source": [
    "#### Static line plot"
   ]
  },
  {
   "cell_type": "code",
   "execution_count": 4,
   "metadata": {},
   "outputs": [
    {
     "data": {
      "application/vnd.jupyter.widget-view+json": {
       "model_id": "5ab1fea6d70c4a3e9bc9654b59b7de4f",
       "version_major": 2,
       "version_minor": 0
      },
      "image/png": "[encoded data removed]",
      "text/html": [
       "\n",
       "            <div style=\"display: inline-block;\">\n",
       "                <div class=\"jupyter-widgets widget-label\" style=\"text-align: center;\">\n",
       "                    Figure\n",
       "                </div>\n",
       "                <img src='data:image/png;base64,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' width=600.0/>\n",
       "            </div>\n",
       "        "
      ],
      "text/plain": [
       "Canvas(toolbar=Toolbar(toolitems=[('Home', 'Reset original view', 'home', 'home'), ('Back', 'Back to previous …"
      ]
     },
     "metadata": {},
     "output_type": "display_data"
    }
   ],
   "source": [
    "fig, ax = plt.subplots(1, 1, figsize = (6, 4))\n",
    "# plt.subplots_adjust(left=0.5, bottom=0.5, right=0.9, top=0.9)\n",
    "ax.plot(df_yr.year, df_yr.csr_total, 'o-', markersize=4, label='CSR Score', color='#1f77b4')\n",
    "ax.set_ylim(-1, 2.5)\n",
    "ax.use_sticky_edges = False\n",
    "ax.margins(0.1)\n",
    "ax.set_title(\"CSR Performance Over Time\", loc='left', y=1.05)\n",
    "ax.tick_params(axis='both', left=False, top=False, right=False, bottom=False, labelleft=False, labeltop=False, labelright=False, labelbottom=True, color='grey', labelcolor=\"grey\")\n",
    "# or ax.set_ytick([])\n",
    "ax.spines['right'].set_visible(False)\n",
    "ax.spines['top'].set_visible(False)\n",
    "ax.spines['left'].set_visible(True)\n",
    "for spine in ax.spines.values():\n",
    "    spine.set_edgecolor('grey')\n",
    "ax.legend(loc='upper left', bbox_to_anchor=(0, 0.95), fontsize = 'medium', frameon=False, labelcolor = 'linecolor')\n",
    "plt.show()\n"
   ]
  },
  {
   "cell_type": "markdown",
   "metadata": {},
   "source": [
    "#### Animated line plot"
   ]
  },
  {
   "cell_type": "code",
   "execution_count": null,
   "metadata": {},
   "outputs": [],
   "source": [
    "fig, ax = plt.subplots(1,1, figsize = (6, 4))\n",
    "\n",
    "line, = ax.plot(df_yr.year, df_yr.csr_total, '-', label='CSR Score', color='#1f77b4')\n",
    "ax.set_ylim(-1, 2.5)\n",
    "ax.set_xlim(2003, 2019) \n",
    "ax.legend(loc='upper left', bbox_to_anchor=(0, 0.95), fontsize = 'medium', frameon=False, labelcolor = 'linecolor')\n",
    "ax.use_sticky_edges = False\n",
    "ax.margins(0.1)\n",
    "ax.set_title(\"CSR Performance Over Time\", loc='left', y=1.01, fontweight='bold', fontsize=12)\n",
    "ax.tick_params(axis='both', left=False, top=False, right=False, bottom=False, labelleft=False, labeltop=False, labelright=False, labelbottom=True, color='grey', labelcolor=\"grey\")\n",
    "# or ax.set_ytick([])\n",
    "ax.spines['right'].set_visible(False)\n",
    "ax.spines['top'].set_visible(False)\n",
    "ax.spines['left'].set_visible(True)\n",
    "for spine in ax.spines.values():\n",
    "    spine.set_edgecolor('grey')\n",
    "\n",
    "\n",
    "def animate_line(i):\n",
    "    line.set_data(df_yr.year[:i],df_yr.csr_total[:i])\n",
    "    return line,\n",
    "    \n",
    "\n",
    "anim_line = FuncAnimation(fig, animate_line, frames=len(df_yr.year)+1, interval=250, blit = False, repeat=False)"
   ]
  },
  {
   "cell_type": "markdown",
   "metadata": {},
   "source": [
    "#### CSR performance by industry"
   ]
  },
  {
   "cell_type": "markdown",
   "metadata": {},
   "source": [
    "#### Get average performance by industry over time"
   ]
  },
  {
   "cell_type": "code",
   "execution_count": null,
   "metadata": {},
   "outputs": [],
   "source": [
    "vars_to_mean = ['log_assets', 'log_sales',\n",
    "       'sales_growth', 'return', 'roa', 'csr_total', 'csr_external',\n",
    "       'csr_internal', 'compensation', 'log_totcomp']\n",
    "\n",
    "df_ind_yr = df.groupby(['year', 'industry'])[vars_to_mean].mean()\n",
    "df_ind_yr=df_ind_yr.reset_index()\n",
    "df_ind_yr.sort_values(['industry', 'year'])"
   ]
  },
  {
   "cell_type": "code",
   "execution_count": null,
   "metadata": {},
   "outputs": [],
   "source": [
    "df_tr_yr= df_ind_yr[df_ind_yr['industry']=='Transportation'].reset_index(drop=True)\n",
    "df_mf_yr= df_ind_yr[df_ind_yr['industry']=='Manufacturing'].reset_index(drop=True)\n",
    "df_re_yr= df_ind_yr[df_ind_yr['industry']=='Retail'].reset_index(drop=True)\n",
    "df_se_yr= df_ind_yr[df_ind_yr['industry']=='Services'].reset_index(drop=True)\n",
    "df_co_yr= df_ind_yr[df_ind_yr['industry']=='Construction'].reset_index(drop=True)\n",
    "df_ws_yr= df_ind_yr[df_ind_yr['industry']=='Wholesale'].reset_index(drop=True)\n"
   ]
  },
  {
   "cell_type": "code",
   "execution_count": null,
   "metadata": {},
   "outputs": [],
   "source": [
    "fig, axes = plt.subplots(1, 2, figsize = (10, 4))\n",
    "\n",
    "fig.suptitle('CSR Performance of different industries Over Time', x=0.255, y=0.95, fontweight='bold', fontsize=12)\n",
    "\n",
    "line1, = axes[0].plot([], [], '.-', color='#1f77b4', markersize=5, alpha=0.2, label='Transportation')\n",
    "line2, = axes[0].plot([], [], '+-', color='#1f77b4', markersize=5, alpha=0.3, label='Manufacturing')\n",
    "line3, = axes[0].plot([], [], '*-', color='#1f77b4', markersize=5, alpha=0.4, label='Services')\n",
    "line4, = axes[1].plot([], [], '.-', color='#1f77b4', markersize=5, alpha=0.5, label='Retail')\n",
    "line5, = axes[1].plot([], [], '+-', color='#1f77b4', markersize=5, alpha=0.6, label='Construction')\n",
    "line6, = axes[1].plot([], [], '*-', color='#1f77b4', markersize=5, alpha=0.7, label='Wholesale')\n",
    "\n",
    "for ax in axes:\n",
    "    ax.set_ylim(-1.7, 2.5)\n",
    "    ax.set_xlim(2003, 2019)\n",
    "    ax.use_sticky_edges = False\n",
    "    ax.margins(0.1)\n",
    "    ax.text(2014, -1.5, 'CSR of all firms', color='grey', alpha=0.7, fontsize='medium')\n",
    "    ax.tick_params(axis='both', left=False, top=False, right=False, bottom=False, labelleft=False, labeltop=False, labelright=False, labelbottom=True, color='grey', labelcolor=\"grey\")\n",
    "    # or ax.set_ytick([])\n",
    "    ax.spines['right'].set_visible(False)\n",
    "    ax.spines['top'].set_visible(False)\n",
    "    ax.spines['left'].set_visible(True)\n",
    "    for spine in ax.spines.values():\n",
    "        spine.set_edgecolor('grey')\n",
    "    # plt.subplots_adjust(left=0.5, bottom=0.5, right=0.9, top=0.9)\n",
    "    ax.fill_between(df_yr.year, -1.8, df_yr.csr_total, facecolor='grey', \n",
    "                    edgecolor = 'none', alpha=0.15) # adjust the baseline to -1.8, the default is 0.\n",
    "    ax.legend(loc='upper left', bbox_to_anchor=(0, 1.03), fontsize = 'medium', frameon=False, labelcolor = 'linecolor', title='CSR Score > Avg of all', alignment='left')\n",
    "    ax.get_legend().get_title().set_color('grey')\n",
    "\n",
    "def animate_multiple_line(i):\n",
    "    line1.set_data(df_tr_yr.year[:i], df_tr_yr.csr_total[:i])\n",
    "    line2.set_data(df_mf_yr.year[:i], df_mf_yr.csr_total[:i])\n",
    "    line3.set_data(df_se_yr.year[:i], df_se_yr.csr_total[:i])\n",
    "    line4.set_data(df_re_yr.year[:i], df_re_yr.csr_total[:i])\n",
    "    line5.set_data(df_co_yr.year[:i], df_co_yr.csr_total[:i])\n",
    "    line6.set_data(df_ws_yr.year[:i], df_ws_yr.csr_total[:i])\n",
    "\n",
    "fig.tight_layout()\n",
    "anim_multiple_line = FuncAnimation(fig, animate_multiple_line, frames=len(df_yr.year)+1, interval=250, blit = False, repeat=False)\n"
   ]
  },
  {
   "cell_type": "markdown",
   "metadata": {},
   "source": [
    "### CSR performance by gender"
   ]
  },
  {
   "cell_type": "code",
   "execution_count": null,
   "metadata": {},
   "outputs": [],
   "source": [
    "vars_to_mean = ['log_assets', 'log_sales',\n",
    "       'sales_growth', 'return', 'roa', 'csr_total', 'csr_external',\n",
    "       'csr_internal', 'compensation', 'log_totcomp']\n",
    "\n",
    "df_gender_yr = df.groupby(['year', 'ceo_female'])[vars_to_mean].mean()\n",
    "df_gender_yr=df_gender_yr.reset_index()\n",
    "df_gender_yr.sort_values(['ceo_female', 'year'])"
   ]
  },
  {
   "cell_type": "markdown",
   "metadata": {},
   "source": [
    "Dynamic bar chart"
   ]
  },
  {
   "cell_type": "code",
   "execution_count": null,
   "metadata": {},
   "outputs": [],
   "source": [
    "fig, ax = plt.subplots(1, 1, figsize = (8, 4))\n",
    "\n",
    "x = df_gender_yr['year'].unique()\n",
    "x_axis = np.arange(len(x))\n",
    "ym = df_gender_yr[df_gender_yr['ceo_female']==0.0].csr_total+0.5\n",
    "yfe= df_gender_yr[df_gender_yr['ceo_female']==1.0].csr_total+0.5\n",
    "\n",
    "\n",
    "def animate_bar(i):\n",
    "    ax.cla()\n",
    "    \n",
    "    ax.set_xticks(x_axis)\n",
    "    ax.set_xticklabels(x)\n",
    "    ax.set_ylim(0, 3.2)\n",
    "    ax.set_xlim(-1, 15)\n",
    "    ax.set_title(\"CSR performance over time by gender\", loc='left', y=1.01, fontweight='bold', fontsize=12)\n",
    "    ax.tick_params(axis='both', left=False, top=False, right=False, bottom=False, labelleft=False, labeltop=False, \n",
    "                labelright=False, labelbottom=True, color='grey', labelcolor=\"grey\", labelsize='small')\n",
    "    # or ax.set_ytick([])\n",
    "    ax.spines['right'].set_visible(False)\n",
    "    ax.spines['top'].set_visible(False)\n",
    "    ax.spines['left'].set_visible(True)\n",
    "    for spine in ax.spines.values():\n",
    "        spine.set_edgecolor('grey')\n",
    "\n",
    "    ax.bar(x_axis - 0.2, ym, 0.4, color='#1f77b4', alpha=0.5, label = \"Males\")\n",
    "    ax.bar(x_axis[:i] + 0.2, yfe[:i], 0.4, color='#1f77b4', alpha=0.9, label = \"Females\")\n",
    "    ax.legend(loc='upper left', bbox_to_anchor=(0, 1.04), fontsize = 'medium', frameon=False, labelcolor = 'linecolor', title='CSR Score', alignment='left')\n",
    "    ax.get_legend().get_title().set_color('grey')\n",
    "\n",
    "anim_bar = FuncAnimation(fig, animate_bar, frames=len(x)+1, interval=250, blit = False, repeat=False)\n",
    "\n",
    "\n"
   ]
  },
  {
   "cell_type": "markdown",
   "metadata": {},
   "source": [
    "### CSR performance and ROA scatter plot and Linear regression"
   ]
  },
  {
   "cell_type": "code",
   "execution_count": null,
   "metadata": {},
   "outputs": [],
   "source": [
    "# winsorize data\n",
    "threshold = 0.01\n",
    "df['log_assets_w'] = winsorize(df['log_assets'].values, limits=threshold)\n",
    "df['csr_total_w'] = winsorize(df['csr_total'].values, limits=threshold)\n",
    "df['roa_w'] = winsorize(df['roa'].values, limits=threshold)\n",
    "df_sca = df[['year', 'log_assets_w', 'roa_w', 'csr_total_w']]"
   ]
  },
  {
   "cell_type": "markdown",
   "metadata": {},
   "source": [
    "Randomly select observations from each year to make scatter plots more readable"
   ]
  },
  {
   "cell_type": "code",
   "execution_count": null,
   "metadata": {},
   "outputs": [],
   "source": [
    "df_sca_rand = df_sca.groupby('year').apply(lambda x: x.sample(100)).reset_index(drop=True)\n",
    "df_sca_rand.shape"
   ]
  },
  {
   "cell_type": "markdown",
   "metadata": {},
   "source": [
    "Run Linear regression of sales and csr by year and save the results"
   ]
  },
  {
   "cell_type": "code",
   "execution_count": null,
   "metadata": {
    "scrolled": true
   },
   "outputs": [],
   "source": [
    "years = df_sca['year'].unique().tolist()\n",
    "ols_results = {'year':[], 'a':[], 'b':[]}\n",
    "for year in years:\n",
    "    ols = smf.ols(formula = ' csr_total_w ~ log_assets_w', data=df_sca[df_sca['year']==year]).fit()\n",
    "    ols_results['year'].append(year)\n",
    "    ols_results['a'].append(ols.params[0])\n",
    "    ols_results['b'].append(ols.params[1])\n",
    "\n",
    "ols_results = pd.DataFrame.from_dict(ols_results)\n",
    "ols_results"
   ]
  },
  {
   "cell_type": "code",
   "execution_count": null,
   "metadata": {},
   "outputs": [],
   "source": [
    "fig, (ax1, ax2) = plt.subplots(1, 2, figsize = (10, 4), gridspec_kw={'width_ratios': [3, 2]})\n",
    "\n",
    "# line and scatter plots\n",
    "x_range = np.linspace(4.5, 11, 300)\n",
    "ax1.set_xlim(4, 12)\n",
    "ax1.set_ylim(-6, 11)\n",
    "ax1.set_xlabel('Log Assets', color = 'grey')\n",
    "ax1.set_ylabel('CSR  \\nScore', rotation=0, color = 'grey')\n",
    "ax1.yaxis.set_label_coords(-0.04, 0.90)\n",
    "ax1.set_title(\"CSR performance and firm size\", loc='left', y=1.01, fontweight='bold', fontsize=12)\n",
    "ax1.tick_params(axis='both', left=False, top=False, right=False, bottom=False, labelleft=False, labeltop=False, \n",
    "            labelright=False, labelbottom=True, color='grey', labelcolor=\"grey\", labelsize='small')\n",
    "# or ax.set_ytick([])\n",
    "ax1.spines['right'].set_visible(False)\n",
    "ax1.spines['top'].set_visible(False)\n",
    "ax1.spines['left'].set_visible(True)\n",
    "for spine in ax1.spines.values():\n",
    "    spine.set_edgecolor('grey')\n",
    "\n",
    "scat = ax1.scatter([], [], color='grey', marker='x', s=8, alpha=0.6)\n",
    "line, = ax1.plot([], [], color='#1f77b4', linewidth=2, alpha=0.9)\n",
    "text_line = ax1.text(5.5, 5.5, '', fontsize=12, fontweight='bold', color = '#1f77b4',\n",
    "                    bbox=dict(facecolor='#1f77b4', edgecolor='#1f77b4', alpha=0.2, boxstyle='round, pad=1'))\n",
    "text_year = ax1.text(4.1, 9.5, '', fontsize=12, fontweight='bold', color = '#1f77b4', alpha=0.5)\n",
    "\n",
    "def animate_scat(i):\n",
    "    x = df_sca_rand['log_assets_w'].loc[df_sca_rand['year']==years[i]]\n",
    "    y = df_sca_rand['csr_total_w'].loc[df_sca_rand['year']==years[i]]\n",
    "    coef = ols_results['b'].loc[ols_results['year']==years[i]].tolist()[0]\n",
    "    con = ols_results['a'].loc[ols_results['year']==years[i]].tolist()[0]\n",
    "\n",
    "    scat.set_offsets(pd.concat([x, y], axis=1).to_numpy())\n",
    "    line.set_data(x_range, coef*x_range+con)\n",
    "    text_line.set_text('CSR = {:.2f} + {:.2f}LogAssets'.format(con, coef))\n",
    "    text_year.set_text('Year {}'.format(years[i]))\n",
    "\n",
    "\n",
    "# Bar chart\n",
    "ax2.barh(years[:6], ols_results['b'][:6], color = '#1f77b4', alpha = 0.5)\n",
    "ax2.barh(years[6:], ols_results['b'][6:], color = '#1f77b4', alpha = 0.9)\n",
    "ax2.set_xlabel('Coefficient of LogAssets', color = 'grey')\n",
    "ax2.set_xticks([0, 0.2, 0.4, 0.6, 0.8, 1.0, 1.2])\n",
    "ax2.invert_yaxis()\n",
    "ax2.set_title('Coefficients of OLS regressions by year \\nCSR = Intercept + Coef * LogAssets', loc='left', y=1.01, fontweight='bold', fontsize=10)\n",
    "ax2.tick_params(axis='both', left=False, top=False, right=False, bottom=False, labelleft=True, labeltop=False, \n",
    "            labelright=False, labelbottom=True, color='grey', labelcolor=\"grey\", labelsize='small')\n",
    "# or ax.set_ytick([])\n",
    "ax2.spines['right'].set_visible(False)\n",
    "ax2.spines['top'].set_visible(False)\n",
    "ax2.spines['left'].set_visible(True)\n",
    "for spine in ax2.spines.values():\n",
    "    spine.set_edgecolor('grey')\n",
    "\n",
    "\n",
    "anim_scat = FuncAnimation(fig, animate_scat, frames=15, interval=250, blit = False, repeat=False)\n",
    "fig.tight_layout()\n",
    "plt.show()"
   ]
  },
  {
   "cell_type": "code",
   "execution_count": null,
   "metadata": {},
   "outputs": [],
   "source": []
  }
 ],
 "metadata": {
  "kernelspec": {
   "display_name": "Python 3 (ipykernel)",
   "language": "python",
   "name": "python3"
  },
  "language_info": {
   "codemirror_mode": {
    "name": "ipython",
    "version": 3
   },
   "file_extension": ".py",
   "mimetype": "text/x-python",
   "name": "python",
   "nbconvert_exporter": "python",
   "pygments_lexer": "ipython3",
   "version": "3.11.2"
  }
 },
 "nbformat": 4,
 "nbformat_minor": 2
}
