{
 "cells": [
  {
   "cell_type": "markdown",
   "metadata": {},
   "source": [
    "## CSR performance of US companies 2004 - 2018"
   ]
  },
  {
   "cell_type": "markdown",
   "metadata": {},
   "source": [
    "### Import libraries"
   ]
  },
  {
   "cell_type": "code",
   "execution_count": 1,
   "metadata": {},
   "outputs": [],
   "source": [
    "import numpy as np\n",
    "import pandas as pd"
   ]
  },
  {
   "cell_type": "markdown",
   "metadata": {},
   "source": [
    "### import the data"
   ]
  },
  {
   "cell_type": "code",
   "execution_count": 2,
   "metadata": {},
   "outputs": [
    {
     "name": "stdout",
     "output_type": "stream",
     "text": [
      "(23862, 16)\n"
     ]
    },
    {
     "data": {
      "text/html": [
       "<div>\n",
       "<style scoped>\n",
       "    .dataframe tbody tr th:only-of-type {\n",
       "        vertical-align: middle;\n",
       "    }\n",
       "\n",
       "    .dataframe tbody tr th {\n",
       "        vertical-align: top;\n",
       "    }\n",
       "\n",
       "    .dataframe thead th {\n",
       "        text-align: right;\n",
       "    }\n",
       "</style>\n",
       "<table border=\"1\" class=\"dataframe\">\n",
       "  <thead>\n",
       "    <tr style=\"text-align: right;\">\n",
       "      <th></th>\n",
       "      <th>coname</th>\n",
       "      <th>gvkey</th>\n",
       "      <th>fyear</th>\n",
       "      <th>tdc1</th>\n",
       "      <th>tic</th>\n",
       "      <th>sic_2dgt</th>\n",
       "      <th>annret</th>\n",
       "      <th>roa</th>\n",
       "      <th>lnat</th>\n",
       "      <th>sales_growth</th>\n",
       "      <th>lnrevenue</th>\n",
       "      <th>res_all</th>\n",
       "      <th>ceo_female</th>\n",
       "      <th>csr_tot_net</th>\n",
       "      <th>csr_external_net</th>\n",
       "      <th>csr_internal_net</th>\n",
       "    </tr>\n",
       "  </thead>\n",
       "  <tbody>\n",
       "    <tr>\n",
       "      <th>0</th>\n",
       "      <td>AAR CORP</td>\n",
       "      <td>1004</td>\n",
       "      <td>2000</td>\n",
       "      <td>3910.003</td>\n",
       "      <td>AIR</td>\n",
       "      <td>50</td>\n",
       "      <td>0.036908</td>\n",
       "      <td>0.026403</td>\n",
       "      <td>6.555149</td>\n",
       "      <td>-0.146513</td>\n",
       "      <td>6.774515</td>\n",
       "      <td>0</td>\n",
       "      <td>0.0</td>\n",
       "      <td>NaN</td>\n",
       "      <td>NaN</td>\n",
       "      <td>NaN</td>\n",
       "    </tr>\n",
       "    <tr>\n",
       "      <th>1</th>\n",
       "      <td>AAR CORP</td>\n",
       "      <td>1004</td>\n",
       "      <td>2001</td>\n",
       "      <td>2047.286</td>\n",
       "      <td>AIR</td>\n",
       "      <td>50</td>\n",
       "      <td>-0.171749</td>\n",
       "      <td>-0.082989</td>\n",
       "      <td>6.566952</td>\n",
       "      <td>-0.269411</td>\n",
       "      <td>6.461032</td>\n",
       "      <td>0</td>\n",
       "      <td>0.0</td>\n",
       "      <td>NaN</td>\n",
       "      <td>NaN</td>\n",
       "      <td>NaN</td>\n",
       "    </tr>\n",
       "    <tr>\n",
       "      <th>2</th>\n",
       "      <td>AAR CORP</td>\n",
       "      <td>1004</td>\n",
       "      <td>2002</td>\n",
       "      <td>2080.489</td>\n",
       "      <td>AIR</td>\n",
       "      <td>50</td>\n",
       "      <td>-0.605518</td>\n",
       "      <td>-0.018074</td>\n",
       "      <td>6.533238</td>\n",
       "      <td>-0.050701</td>\n",
       "      <td>6.409084</td>\n",
       "      <td>0</td>\n",
       "      <td>0.0</td>\n",
       "      <td>NaN</td>\n",
       "      <td>NaN</td>\n",
       "      <td>NaN</td>\n",
       "    </tr>\n",
       "  </tbody>\n",
       "</table>\n",
       "</div>"
      ],
      "text/plain": [
       "     coname  gvkey  fyear      tdc1  tic  sic_2dgt    annret       roa  \\\n",
       "0  AAR CORP   1004   2000  3910.003  AIR        50  0.036908  0.026403   \n",
       "1  AAR CORP   1004   2001  2047.286  AIR        50 -0.171749 -0.082989   \n",
       "2  AAR CORP   1004   2002  2080.489  AIR        50 -0.605518 -0.018074   \n",
       "\n",
       "       lnat  sales_growth  lnrevenue  res_all  ceo_female  csr_tot_net  \\\n",
       "0  6.555149     -0.146513   6.774515        0         0.0          NaN   \n",
       "1  6.566952     -0.269411   6.461032        0         0.0          NaN   \n",
       "2  6.533238     -0.050701   6.409084        0         0.0          NaN   \n",
       "\n",
       "   csr_external_net  csr_internal_net  \n",
       "0               NaN               NaN  \n",
       "1               NaN               NaN  \n",
       "2               NaN               NaN  "
      ]
     },
     "execution_count": 2,
     "metadata": {},
     "output_type": "execute_result"
    }
   ],
   "source": [
    "df = pd.read_csv(\"esg.csv\")\n",
    "print(df.shape)\n",
    "df.head(3)"
   ]
  },
  {
   "cell_type": "markdown",
   "metadata": {},
   "source": [
    "### Rename and reorder columns"
   ]
  },
  {
   "cell_type": "code",
   "execution_count": 3,
   "metadata": {},
   "outputs": [],
   "source": [
    "# change column names \n",
    "df.rename(columns=\n",
    "          {'coname': 'company',\n",
    "            'fyear':'year',\n",
    "            'tdc1': 'compensation',\n",
    "            'tic':'ticker',\n",
    "            'sic_2dgt':\"sic\",\n",
    "            'lnat':'log_assets', \n",
    "            'lnrevenue': 'log_sales',\n",
    "            'annret':'return',\n",
    "            'res_all':'restatement',\n",
    "            'csr_tot_net':'csr_total',\n",
    "            'csr_external_net':'csr_external',\n",
    "            'csr_internal_net':'csr_internal'}, inplace=True)\n",
    "# list(df.columns) display new column names"
   ]
  },
  {
   "cell_type": "code",
   "execution_count": 4,
   "metadata": {},
   "outputs": [
    {
     "data": {
      "text/html": [
       "<div>\n",
       "<style scoped>\n",
       "    .dataframe tbody tr th:only-of-type {\n",
       "        vertical-align: middle;\n",
       "    }\n",
       "\n",
       "    .dataframe tbody tr th {\n",
       "        vertical-align: top;\n",
       "    }\n",
       "\n",
       "    .dataframe thead th {\n",
       "        text-align: right;\n",
       "    }\n",
       "</style>\n",
       "<table border=\"1\" class=\"dataframe\">\n",
       "  <thead>\n",
       "    <tr style=\"text-align: right;\">\n",
       "      <th></th>\n",
       "      <th>company</th>\n",
       "      <th>gvkey</th>\n",
       "      <th>year</th>\n",
       "      <th>ticker</th>\n",
       "      <th>sic</th>\n",
       "      <th>log_assets</th>\n",
       "      <th>log_sales</th>\n",
       "      <th>sales_growth</th>\n",
       "      <th>return</th>\n",
       "      <th>roa</th>\n",
       "      <th>csr_total</th>\n",
       "      <th>csr_external</th>\n",
       "      <th>csr_internal</th>\n",
       "      <th>restatement</th>\n",
       "      <th>ceo_female</th>\n",
       "      <th>compensation</th>\n",
       "    </tr>\n",
       "  </thead>\n",
       "  <tbody>\n",
       "    <tr>\n",
       "      <th>0</th>\n",
       "      <td>AAR CORP</td>\n",
       "      <td>1004</td>\n",
       "      <td>2000</td>\n",
       "      <td>AIR</td>\n",
       "      <td>50</td>\n",
       "      <td>6.555149</td>\n",
       "      <td>6.774515</td>\n",
       "      <td>-0.146513</td>\n",
       "      <td>0.036908</td>\n",
       "      <td>0.026403</td>\n",
       "      <td>NaN</td>\n",
       "      <td>NaN</td>\n",
       "      <td>NaN</td>\n",
       "      <td>0</td>\n",
       "      <td>0.0</td>\n",
       "      <td>3910.003</td>\n",
       "    </tr>\n",
       "    <tr>\n",
       "      <th>1</th>\n",
       "      <td>AAR CORP</td>\n",
       "      <td>1004</td>\n",
       "      <td>2001</td>\n",
       "      <td>AIR</td>\n",
       "      <td>50</td>\n",
       "      <td>6.566952</td>\n",
       "      <td>6.461032</td>\n",
       "      <td>-0.269411</td>\n",
       "      <td>-0.171749</td>\n",
       "      <td>-0.082989</td>\n",
       "      <td>NaN</td>\n",
       "      <td>NaN</td>\n",
       "      <td>NaN</td>\n",
       "      <td>0</td>\n",
       "      <td>0.0</td>\n",
       "      <td>2047.286</td>\n",
       "    </tr>\n",
       "    <tr>\n",
       "      <th>2</th>\n",
       "      <td>AAR CORP</td>\n",
       "      <td>1004</td>\n",
       "      <td>2002</td>\n",
       "      <td>AIR</td>\n",
       "      <td>50</td>\n",
       "      <td>6.533238</td>\n",
       "      <td>6.409084</td>\n",
       "      <td>-0.050701</td>\n",
       "      <td>-0.605518</td>\n",
       "      <td>-0.018074</td>\n",
       "      <td>NaN</td>\n",
       "      <td>NaN</td>\n",
       "      <td>NaN</td>\n",
       "      <td>0</td>\n",
       "      <td>0.0</td>\n",
       "      <td>2080.489</td>\n",
       "    </tr>\n",
       "  </tbody>\n",
       "</table>\n",
       "</div>"
      ],
      "text/plain": [
       "    company  gvkey  year ticker  sic  log_assets  log_sales  sales_growth  \\\n",
       "0  AAR CORP   1004  2000    AIR   50    6.555149   6.774515     -0.146513   \n",
       "1  AAR CORP   1004  2001    AIR   50    6.566952   6.461032     -0.269411   \n",
       "2  AAR CORP   1004  2002    AIR   50    6.533238   6.409084     -0.050701   \n",
       "\n",
       "     return       roa  csr_total  csr_external  csr_internal  restatement  \\\n",
       "0  0.036908  0.026403        NaN           NaN           NaN            0   \n",
       "1 -0.171749 -0.082989        NaN           NaN           NaN            0   \n",
       "2 -0.605518 -0.018074        NaN           NaN           NaN            0   \n",
       "\n",
       "   ceo_female  compensation  \n",
       "0         0.0      3910.003  \n",
       "1         0.0      2047.286  \n",
       "2         0.0      2080.489  "
      ]
     },
     "execution_count": 4,
     "metadata": {},
     "output_type": "execute_result"
    }
   ],
   "source": [
    "# adjust the order of columns\n",
    "# assign a new list of column names with the desired order\n",
    "df = df[['company', 'gvkey', 'year', 'ticker', 'sic', 'log_assets', 'log_sales', 'sales_growth', 'return',\n",
    " 'roa', 'csr_total', 'csr_external', 'csr_internal', 'restatement', 'ceo_female', 'compensation']]\n",
    "df.head(3)"
   ]
  },
  {
   "cell_type": "markdown",
   "metadata": {},
   "source": [
    "### Data type, missing values and descriptive statistics"
   ]
  },
  {
   "cell_type": "code",
   "execution_count": 5,
   "metadata": {},
   "outputs": [
    {
     "data": {
      "text/plain": [
       "company          object\n",
       "gvkey             int64\n",
       "year              int64\n",
       "ticker           object\n",
       "sic               int64\n",
       "log_assets      float64\n",
       "log_sales       float64\n",
       "sales_growth    float64\n",
       "return          float64\n",
       "roa             float64\n",
       "csr_total       float64\n",
       "csr_external    float64\n",
       "csr_internal    float64\n",
       "restatement       int64\n",
       "ceo_female      float64\n",
       "compensation    float64\n",
       "dtype: object"
      ]
     },
     "execution_count": 5,
     "metadata": {},
     "output_type": "execute_result"
    }
   ],
   "source": [
    "df.dtypes"
   ]
  },
  {
   "cell_type": "markdown",
   "metadata": {},
   "source": [
    "**Convert strings to integers:** \n",
    "- `df['sic'] = df['sic'].astype(int)`\n",
    "- or `df['sic'] = pd.to_numeric(df['sic'], errors='coerce')`"
   ]
  },
  {
   "cell_type": "markdown",
   "metadata": {},
   "source": [
    "**Deal with NA's**\n",
    "- drop rows with at least one missng value: `df_row_any = df.dropna(axis = 0, how = \"any\")`,  *axis* is used to control whether the dropping happens row-wise or column-wise\n",
    "- drop rows with all values missing: `df_row_all = df.dropna(axis = 0, how = \"all\")`\n",
    "- drop rows for specific variables: `df_row_var = df.dropna(subset=['varname'])`\n",
    "- drop columns with at least one missng value: `df_col_any = df.dropna(axis = 1, how = \"any\")`\n",
    "- replace missing values by 0, `df = df.replace(np.nan, 0, reges=True)`.\n"
   ]
  },
  {
   "cell_type": "code",
   "execution_count": 6,
   "metadata": {},
   "outputs": [
    {
     "name": "stdout",
     "output_type": "stream",
     "text": [
      "(19108, 16)\n"
     ]
    }
   ],
   "source": [
    "df.dropna(axis = 0, how = \"any\", inplace=True) # dropna() by default does not change the original data, but you can use inplace argument to augment the data\n",
    "# same as \n",
    "# df = df.dropna(axis = 0, how = \"any\")\n",
    "print(df.shape)"
   ]
  },
  {
   "cell_type": "markdown",
   "metadata": {},
   "source": [
    "**Descriptive statistics**:\n",
    "- only one variable: `df.var-name.describe()`\n",
    "- only numeric columns: `df.describe(include = [np.number])`\n",
    "- only object columns: `df.describe(include = [object])`\n",
    "- exclude object columns: `df.describe(exclude = [object])`\n",
    "- check number of observations: `df.count()`"
   ]
  },
  {
   "cell_type": "markdown",
   "metadata": {},
   "source": [
    "### Sort data and adjust index"
   ]
  },
  {
   "cell_type": "code",
   "execution_count": 7,
   "metadata": {},
   "outputs": [
    {
     "data": {
      "text/html": [
       "<div>\n",
       "<style scoped>\n",
       "    .dataframe tbody tr th:only-of-type {\n",
       "        vertical-align: middle;\n",
       "    }\n",
       "\n",
       "    .dataframe tbody tr th {\n",
       "        vertical-align: top;\n",
       "    }\n",
       "\n",
       "    .dataframe thead th {\n",
       "        text-align: right;\n",
       "    }\n",
       "</style>\n",
       "<table border=\"1\" class=\"dataframe\">\n",
       "  <thead>\n",
       "    <tr style=\"text-align: right;\">\n",
       "      <th></th>\n",
       "      <th>company</th>\n",
       "      <th>gvkey</th>\n",
       "      <th>year</th>\n",
       "    </tr>\n",
       "  </thead>\n",
       "  <tbody>\n",
       "    <tr>\n",
       "      <th>0</th>\n",
       "      <td>AAR CORP</td>\n",
       "      <td>1004</td>\n",
       "      <td>2003</td>\n",
       "    </tr>\n",
       "    <tr>\n",
       "      <th>1</th>\n",
       "      <td>AAR CORP</td>\n",
       "      <td>1004</td>\n",
       "      <td>2004</td>\n",
       "    </tr>\n",
       "    <tr>\n",
       "      <th>2</th>\n",
       "      <td>AAR CORP</td>\n",
       "      <td>1004</td>\n",
       "      <td>2005</td>\n",
       "    </tr>\n",
       "    <tr>\n",
       "      <th>3</th>\n",
       "      <td>AAR CORP</td>\n",
       "      <td>1004</td>\n",
       "      <td>2006</td>\n",
       "    </tr>\n",
       "    <tr>\n",
       "      <th>4</th>\n",
       "      <td>AAR CORP</td>\n",
       "      <td>1004</td>\n",
       "      <td>2007</td>\n",
       "    </tr>\n",
       "  </tbody>\n",
       "</table>\n",
       "</div>"
      ],
      "text/plain": [
       "    company  gvkey  year\n",
       "0  AAR CORP   1004  2003\n",
       "1  AAR CORP   1004  2004\n",
       "2  AAR CORP   1004  2005\n",
       "3  AAR CORP   1004  2006\n",
       "4  AAR CORP   1004  2007"
      ]
     },
     "execution_count": 7,
     "metadata": {},
     "output_type": "execute_result"
    }
   ],
   "source": [
    "# sort panel data by both company id (gvkey) and year\n",
    "df = df.sort_values(['gvkey', 'year'])\n",
    "# set index for all observations in order after sorting, no need to specify variables \n",
    "df = df.reset_index(drop=True) # remove the index column\n",
    "df.iloc[:, 0:3].head(5)"
   ]
  },
  {
   "cell_type": "markdown",
   "metadata": {},
   "source": [
    "**Set index**:\n",
    "- set index by one variable: `df.set_index('varname')`\n",
    "- set index by two variables: `df.set_index(['var1', 'var2'])`"
   ]
  },
  {
   "cell_type": "markdown",
   "metadata": {},
   "source": [
    "### Add and drop variables"
   ]
  },
  {
   "cell_type": "code",
   "execution_count": null,
   "metadata": {},
   "outputs": [],
   "source": [
    "# take logarithm\n",
    "df['log_totcomp'] = np.log(1 + df['compensation'])\n",
    "df.log_totcomp.describe()"
   ]
  },
  {
   "cell_type": "code",
   "execution_count": null,
   "metadata": {},
   "outputs": [],
   "source": [
    "# create lagged variables\n",
    "df['lag_log_assets'] = df.groupby('gvkey')['log_assets'].shift(1)\n",
    "df.lag_log_assets.head(3)\n",
    "# it is missing value for the first year observation, if needed, you can drop these missing values\n",
    "# df = df.dropna(subset=['lag_log_assets'])"
   ]
  },
  {
   "cell_type": "code",
   "execution_count": null,
   "metadata": {},
   "outputs": [],
   "source": [
    "# drop columns\n",
    "df = df.drop(['lag_log_assets'], axis = 1)\n",
    "# or df = df.drop(columns = ['lag_log_assets'])\n",
    "\n",
    "# drop columns by index\n",
    "# df = df.drop(df.iloc[:, -10:], axis=1)"
   ]
  },
  {
   "cell_type": "code",
   "execution_count": 8,
   "metadata": {},
   "outputs": [
    {
     "data": {
      "text/plain": [
       "Transportation    6402\n",
       "Manufacturing     3319\n",
       "Services          2950\n",
       "Retail            2275\n",
       "Construction      1984\n",
       "Wholesale         1479\n",
       "Public Admin       450\n",
       "Agriculture        130\n",
       "Other               66\n",
       "Finance             53\n",
       "Name: industry, dtype: int64"
      ]
     },
     "execution_count": 8,
     "metadata": {},
     "output_type": "execute_result"
    }
   ],
   "source": [
    "# create categorical variables from numeric variables\n",
    "\n",
    "ind_bins = [0, 10, 20, 30, 40, 50, 60, 70, 80, 90, np.inf]\n",
    "ind_names = ['Agriculture', 'Construction', 'Manufacturing', 'Transportation', 'Wholesale', 'Retail',\n",
    "        \"Finance\", 'Services', 'Public Admin', 'Other']\n",
    "\n",
    "df['industry'] = pd.cut(df['sic'], ind_bins, labels = ind_names)\n",
    "df['industry'].value_counts()\n",
    "# or df['year'].size()\n",
    "# or df.groupby(['industry]).size()\n",
    "\n",
    "# count by industry and year\n",
    "# df[['industry', 'year']].value_counts(ascending=True)"
   ]
  },
  {
   "cell_type": "code",
   "execution_count": null,
   "metadata": {},
   "outputs": [],
   "source": [
    "# Check descriptive statistics by group\n",
    "# df.groupby(['industry','year'])['log_assets'].describe()"
   ]
  },
  {
   "cell_type": "markdown",
   "metadata": {},
   "source": [
    "**Delete rows by conditions**"
   ]
  },
  {
   "cell_type": "code",
   "execution_count": 9,
   "metadata": {},
   "outputs": [
    {
     "data": {
      "text/plain": [
       "(16792, 17)"
      ]
     },
     "execution_count": 9,
     "metadata": {},
     "output_type": "execute_result"
    }
   ],
   "source": [
    "# drop observations by value\n",
    "df = df.loc[df['year']>2003].reset_index(drop=True) # data points are more stable after 2003.\n",
    "df.shape"
   ]
  },
  {
   "cell_type": "code",
   "execution_count": null,
   "metadata": {},
   "outputs": [],
   "source": [
    "# check unique values of a column\n",
    "len(df['industry'].unique())\n",
    "# or df['industry'].nunique()\n",
    "\n",
    "# check unique values of multiple columns\n",
    "df[['industry', 'year']].nunique()\n",
    "\n",
    "# check unique values of the grouping of multiple columns\n",
    "df[['industry' , 'year']].value_counts()"
   ]
  },
  {
   "cell_type": "code",
   "execution_count": 10,
   "metadata": {},
   "outputs": [
    {
     "data": {
      "text/plain": [
       "Transportation    5592\n",
       "Manufacturing     2902\n",
       "Services          2610\n",
       "Retail            1974\n",
       "Construction      1755\n",
       "Wholesale         1325\n",
       "Agriculture          0\n",
       "Finance              0\n",
       "Public Admin         0\n",
       "Other                0\n",
       "Name: industry, dtype: int64"
      ]
     },
     "execution_count": 10,
     "metadata": {},
     "output_type": "execute_result"
    }
   ],
   "source": [
    "# drop observations by categories \n",
    "(~df['industry'].isin(['Public Admin', 'Agriculture', 'Other','Finance'])).value_counts()\n",
    "\n",
    "df = df[(~df['industry'].isin(['Public Admin', 'Agriculture', 'Other','Finance']))].reset_index(drop=True)\n",
    "df['industry'].value_counts()"
   ]
  },
  {
   "cell_type": "code",
   "execution_count": 11,
   "metadata": {},
   "outputs": [
    {
     "name": "stdout",
     "output_type": "stream",
     "text": [
      "(16158, 17)\n"
     ]
    },
    {
     "data": {
      "text/plain": [
       "Transportation    5592\n",
       "Manufacturing     2902\n",
       "Services          2610\n",
       "Retail            1974\n",
       "Construction      1755\n",
       "Wholesale         1325\n",
       "Name: industry, dtype: int64"
      ]
     },
     "execution_count": 11,
     "metadata": {},
     "output_type": "execute_result"
    }
   ],
   "source": [
    "# drop unused categories\n",
    "df= df.assign(cats=df['industry'].cat.remove_unused_categories())\n",
    "df= df.drop(columns='industry')\n",
    "df=df.rename(columns={'cats': 'industry'})\n",
    "print(df.shape)\n",
    "df['industry'].value_counts()"
   ]
  },
  {
   "cell_type": "code",
   "execution_count": null,
   "metadata": {},
   "outputs": [],
   "source": [
    "# create dummy variables for each category\n",
    "dummies = pd.get_dummies(df['industry'])\n",
    "print(dummies[:10])\n",
    "df = pd.concat([df, dummies], axis = 1)\n",
    "print(df.shape)"
   ]
  },
  {
   "cell_type": "markdown",
   "metadata": {},
   "source": [
    "Create a dummy variable to indicate whether the variable is NA or not:\n",
    "`df[assets_na] = np.where(df['log_assets'].isna(), 0, 1)`"
   ]
  },
  {
   "cell_type": "markdown",
   "metadata": {},
   "source": [
    "### Winsorize data"
   ]
  },
  {
   "cell_type": "code",
   "execution_count": null,
   "metadata": {},
   "outputs": [],
   "source": [
    "from scipy.stats.mstats import winsorize\n",
    "# threshold = 0.01\n",
    "# df['asset_winsorized'] = winsorize(df['log_assets'].values, limits=threshold)"
   ]
  },
  {
   "cell_type": "markdown",
   "metadata": {},
   "source": [
    "### Save data"
   ]
  },
  {
   "cell_type": "code",
   "execution_count": null,
   "metadata": {},
   "outputs": [],
   "source": [
    "df.to_csv('esg_cleaned.csv', index=False)"
   ]
  }
 ],
 "metadata": {
  "kernelspec": {
   "display_name": "Python 3",
   "language": "python",
   "name": "python3"
  },
  "language_info": {
   "codemirror_mode": {
    "name": "ipython",
    "version": 3
   },
   "file_extension": ".py",
   "mimetype": "text/x-python",
   "name": "python",
   "nbconvert_exporter": "python",
   "pygments_lexer": "ipython3",
   "version": "3.11.2"
  },
  "orig_nbformat": 4
 },
 "nbformat": 4,
 "nbformat_minor": 2
}
